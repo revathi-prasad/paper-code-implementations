{
  "cells": [
    {
      "cell_type": "markdown",
      "metadata": {
        "id": "view-in-github",
        "colab_type": "text"
      },
      "source": [
        "<a href=\"https://colab.research.google.com/github/revathi-prasad/paper-code-implementations/blob/main/Train_PMNet.ipynb\" target=\"_parent\"><img src=\"https://colab.research.google.com/assets/colab-badge.svg\" alt=\"Open In Colab\"/></a>"
      ]
    },
    {
      "cell_type": "code",
      "execution_count": null,
      "metadata": {
        "colab": {
          "base_uri": "https://localhost:8080/"
        },
        "id": "Ajs8K7L79llM",
        "outputId": "d6348b14-021b-4423-c72d-489a2320273b"
      },
      "outputs": [
        {
          "output_type": "stream",
          "name": "stdout",
          "text": [
            "Found existing installation: matplotlib 3.2.1\n",
            "Uninstalling matplotlib-3.2.1:\n",
            "  Successfully uninstalled matplotlib-3.2.1\n",
            "Found existing installation: numpy 1.19.1\n",
            "Uninstalling numpy-1.19.1:\n",
            "  Successfully uninstalled numpy-1.19.1\n",
            "Found existing installation: scikit-learn 0.23.1\n",
            "Uninstalling scikit-learn-0.23.1:\n",
            "  Successfully uninstalled scikit-learn-0.23.1\n",
            "Found existing installation: tqdm 4.62.3\n",
            "Uninstalling tqdm-4.62.3:\n",
            "  Successfully uninstalled tqdm-4.62.3\n",
            "Found existing installation: torch 1.11.0\n",
            "Uninstalling torch-1.11.0:\n",
            "  Successfully uninstalled torch-1.11.0\n",
            "Found existing installation: torchvision 0.12.0\n",
            "Uninstalling torchvision-0.12.0:\n",
            "  Successfully uninstalled torchvision-0.12.0\n"
          ]
        }
      ],
      "source": [
        "!pip uninstall matplotlib -y\n",
        "!pip uninstall numpy -y\n",
        "!pip uninstall scikit-learn -y\n",
        "!pip uninstall tqdm -y\n",
        "!pip uninstall torch -y\n",
        "!pip uninstall torchvision -y"
      ]
    },
    {
      "cell_type": "code",
      "execution_count": null,
      "metadata": {
        "colab": {
          "base_uri": "https://localhost:8080/",
          "height": 854
        },
        "id": "pu-4lHnR9PhX",
        "outputId": "4c123fa6-32c5-4f13-a631-f4aa26ece738"
      },
      "outputs": [
        {
          "output_type": "stream",
          "name": "stdout",
          "text": [
            "Looking in indexes: https://pypi.org/simple, https://us-python.pkg.dev/colab-wheels/public/simple/\n",
            "Collecting matplotlib==3.2.1\n",
            "  Using cached matplotlib-3.2.1-cp38-cp38-manylinux1_x86_64.whl (12.4 MB)\n",
            "Collecting numpy==1.19.1\n",
            "  Using cached numpy-1.19.1-cp38-cp38-manylinux2010_x86_64.whl (14.5 MB)\n",
            "Collecting scikit-learn==0.23.1\n",
            "  Using cached scikit_learn-0.23.1-cp38-cp38-manylinux1_x86_64.whl (6.7 MB)\n",
            "Collecting tqdm==4.62.3\n",
            "  Using cached tqdm-4.62.3-py2.py3-none-any.whl (76 kB)\n",
            "Collecting torch==1.11.0\n",
            "  Using cached torch-1.11.0-cp38-cp38-manylinux1_x86_64.whl (750.6 MB)\n",
            "Collecting torchvision==0.12.0\n",
            "  Using cached torchvision-0.12.0-cp38-cp38-manylinux1_x86_64.whl (21.0 MB)\n",
            "Requirement already satisfied: cycler>=0.10 in /usr/local/lib/python3.8/dist-packages (from matplotlib==3.2.1) (0.11.0)\n",
            "Requirement already satisfied: python-dateutil>=2.1 in /usr/local/lib/python3.8/dist-packages (from matplotlib==3.2.1) (2.8.2)\n",
            "Requirement already satisfied: pyparsing!=2.0.4,!=2.1.2,!=2.1.6,>=2.0.1 in /usr/local/lib/python3.8/dist-packages (from matplotlib==3.2.1) (3.0.9)\n",
            "Requirement already satisfied: kiwisolver>=1.0.1 in /usr/local/lib/python3.8/dist-packages (from matplotlib==3.2.1) (1.4.4)\n",
            "Requirement already satisfied: scipy>=0.19.1 in /usr/local/lib/python3.8/dist-packages (from scikit-learn==0.23.1) (1.7.3)\n",
            "Requirement already satisfied: threadpoolctl>=2.0.0 in /usr/local/lib/python3.8/dist-packages (from scikit-learn==0.23.1) (3.1.0)\n",
            "Requirement already satisfied: joblib>=0.11 in /usr/local/lib/python3.8/dist-packages (from scikit-learn==0.23.1) (1.2.0)\n",
            "Requirement already satisfied: typing-extensions in /usr/local/lib/python3.8/dist-packages (from torch==1.11.0) (4.4.0)\n",
            "Requirement already satisfied: requests in /usr/local/lib/python3.8/dist-packages (from torchvision==0.12.0) (2.23.0)\n",
            "Requirement already satisfied: pillow!=8.3.*,>=5.3.0 in /usr/local/lib/python3.8/dist-packages (from torchvision==0.12.0) (7.1.2)\n",
            "Requirement already satisfied: six>=1.5 in /usr/local/lib/python3.8/dist-packages (from python-dateutil>=2.1->matplotlib==3.2.1) (1.15.0)\n",
            "Requirement already satisfied: certifi>=2017.4.17 in /usr/local/lib/python3.8/dist-packages (from requests->torchvision==0.12.0) (2022.12.7)\n",
            "Requirement already satisfied: urllib3!=1.25.0,!=1.25.1,<1.26,>=1.21.1 in /usr/local/lib/python3.8/dist-packages (from requests->torchvision==0.12.0) (1.24.3)\n",
            "Requirement already satisfied: chardet<4,>=3.0.2 in /usr/local/lib/python3.8/dist-packages (from requests->torchvision==0.12.0) (3.0.4)\n",
            "Requirement already satisfied: idna<3,>=2.5 in /usr/local/lib/python3.8/dist-packages (from requests->torchvision==0.12.0) (2.10)\n",
            "Installing collected packages: numpy, torch, tqdm, torchvision, scikit-learn, matplotlib\n",
            "\u001b[31mERROR: pip's dependency resolver does not currently take into account all the packages that are installed. This behaviour is the source of the following dependency conflicts.\n",
            "yellowbrick 1.5 requires scikit-learn>=1.0.0, but you have scikit-learn 0.23.1 which is incompatible.\n",
            "xarray 2022.12.0 requires numpy>=1.20, but you have numpy 1.19.1 which is incompatible.\n",
            "xarray-einstats 0.4.0 requires numpy>=1.20, but you have numpy 1.19.1 which is incompatible.\n",
            "torchtext 0.14.0 requires torch==1.13.0, but you have torch 1.11.0 which is incompatible.\n",
            "torchaudio 0.13.0+cu116 requires torch==1.13.0, but you have torch 1.11.0 which is incompatible.\n",
            "tifffile 2022.10.10 requires numpy>=1.19.2, but you have numpy 1.19.1 which is incompatible.\n",
            "tensorflow 2.9.2 requires numpy>=1.20, but you have numpy 1.19.1 which is incompatible.\n",
            "jaxlib 0.3.25+cuda11.cudnn805 requires numpy>=1.20, but you have numpy 1.19.1 which is incompatible.\n",
            "jax 0.3.25 requires numpy>=1.20, but you have numpy 1.19.1 which is incompatible.\n",
            "imbalanced-learn 0.8.1 requires scikit-learn>=0.24, but you have scikit-learn 0.23.1 which is incompatible.\n",
            "cupy-cuda11x 11.0.0 requires numpy<1.26,>=1.20, but you have numpy 1.19.1 which is incompatible.\n",
            "cmdstanpy 1.0.8 requires numpy>=1.21, but you have numpy 1.19.1 which is incompatible.\u001b[0m\n",
            "Successfully installed matplotlib-3.2.1 numpy-1.19.1 scikit-learn-0.23.1 torch-1.11.0 torchvision-0.12.0 tqdm-4.62.3\n"
          ]
        },
        {
          "output_type": "display_data",
          "data": {
            "application/vnd.colab-display-data+json": {
              "pip_warning": {
                "packages": [
                  "matplotlib",
                  "mpl_toolkits",
                  "numpy"
                ]
              }
            }
          },
          "metadata": {}
        }
      ],
      "source": [
        "!pip install matplotlib==3.2.1 numpy==1.19.1 scikit-learn==0.23.1 tqdm==4.62.3 torch==1.11.0 torchvision==0.12.0"
      ]
    },
    {
      "cell_type": "code",
      "execution_count": null,
      "metadata": {
        "id": "K7TBxN6b9qq8"
      },
      "outputs": [],
      "source": [
        "from __future__ import print_function, division\n",
        "import torch\n",
        "import os\n",
        "import json\n",
        "import pandas as pd\n",
        "from skimage import io, transform\n",
        "from tqdm.notebook import tqdm\n",
        "import numpy as np\n",
        "import matplotlib.pyplot as plt\n",
        "import torch\n",
        "import torch.nn as nn\n",
        "import torch.nn.functional as F\n",
        "from torch.utils.data import Dataset, DataLoader\n",
        "import torch.nn.functional as F\n",
        "# import torch.backends.cudnn as cudnn\n",
        "# cudnn.benchmark = True  # fire on all cylinders\n",
        "import sys\n",
        "sys.path.insert(0,\"/content/drive/MyDrive/PMNet\")\n",
        "from torchvision import transforms, utils, datasets, models\n",
        "import warnings\n",
        "warnings.filterwarnings(\"ignore\")\n",
        "from datetime import datetime\n",
        "from __future__ import absolute_import, print_function\n",
        "\n",
        "from collections import OrderedDict\n",
        "try:\n",
        "    from encoding.nn import SyncBatchNorm\n",
        "\n",
        "    _BATCH_NORM = SyncBatchNorm\n",
        "except:\n",
        "    _BATCH_NORM = nn.BatchNorm2d\n",
        "\n",
        "_BOTTLENECK_EXPANSION = 4\n",
        "\n",
        "from torch.utils.tensorboard import SummaryWriter"
      ]
    },
    {
      "cell_type": "code",
      "execution_count": null,
      "metadata": {
        "colab": {
          "base_uri": "https://localhost:8080/"
        },
        "id": "8owYJog2_gfc",
        "outputId": "ef24a68d-3b47-4c85-ccd5-d7b3975072a5"
      },
      "outputs": [
        {
          "output_type": "stream",
          "name": "stdout",
          "text": [
            "Drive already mounted at /content/drive/; to attempt to forcibly remount, call drive.mount(\"/content/drive/\", force_remount=True).\n"
          ]
        }
      ],
      "source": [
        "from google.colab import drive\n",
        "drive.mount(\"/content/drive/\")\n"
      ]
    },
    {
      "cell_type": "code",
      "execution_count": null,
      "metadata": {
        "colab": {
          "base_uri": "https://localhost:8080/"
        },
        "id": "o8_41KB-D9F7",
        "outputId": "984764c3-4a50-4c99-9a71-000db3e8ea02"
      },
      "outputs": [
        {
          "output_type": "stream",
          "name": "stdout",
          "text": [
            "drive  sample_data\n"
          ]
        }
      ],
      "source": [
        "!ls"
      ]
    },
    {
      "cell_type": "code",
      "execution_count": null,
      "metadata": {
        "colab": {
          "base_uri": "https://localhost:8080/"
        },
        "id": "Fo6Fu4gAFKRV",
        "outputId": "e077e8aa-cf40-4122-d9ea-4698cd848c35"
      },
      "outputs": [
        {
          "output_type": "stream",
          "name": "stdout",
          "text": [
            "/content/drive/MyDrive\n"
          ]
        }
      ],
      "source": [
        "%cd /content/drive/MyDrive/"
      ]
    },
    {
      "cell_type": "code",
      "execution_count": null,
      "metadata": {
        "colab": {
          "base_uri": "https://localhost:8080/"
        },
        "id": "dswWCw-PDBtG",
        "outputId": "fcf7022e-df46-4b38-e1c8-9e49984108aa"
      },
      "outputs": [
        {
          "output_type": "stream",
          "name": "stdout",
          "text": [
            "fatal: destination path 'PMNet' already exists and is not an empty directory.\n"
          ]
        }
      ],
      "source": [
        "!git clone https://github.com/abman23/PMNet.git"
      ]
    },
    {
      "cell_type": "code",
      "source": [
        "device = torch.device('cuda' if torch.cuda.is_available() else 'cpu')"
      ],
      "metadata": {
        "id": "xPNySGhW5YdT"
      },
      "execution_count": null,
      "outputs": []
    },
    {
      "cell_type": "code",
      "source": [
        "device"
      ],
      "metadata": {
        "colab": {
          "base_uri": "https://localhost:8080/"
        },
        "id": "3-iMUWwF6cHX",
        "outputId": "d69e9343-f065-4d31-dbc1-ee0fbaee9dbd"
      },
      "execution_count": null,
      "outputs": [
        {
          "output_type": "execute_result",
          "data": {
            "text/plain": [
              "device(type='cuda')"
            ]
          },
          "metadata": {},
          "execution_count": 9
        }
      ]
    },
    {
      "cell_type": "code",
      "execution_count": null,
      "metadata": {
        "id": "N3DF-_HMY0TQ"
      },
      "outputs": [],
      "source": [
        "class PMnet_usc(Dataset):\n",
        "    def __init__(self, csv_file,\n",
        "                 dir_dataset,               \n",
        "                 transform= transforms.ToTensor()):\n",
        "        \n",
        "        self.ind_val = pd.read_csv(csv_file)\n",
        "        self.dir_dataset = dir_dataset\n",
        "        self.transform = transform\n",
        "\n",
        "    def __len__(self):\n",
        "        return len(self.ind_val)\n",
        "    \n",
        "    def __getitem__(self, idx):\n",
        "\n",
        "        #Load city map\n",
        "        self.dir_buildings = self.dir_dataset+ \"map/\"\n",
        "        img_name_buildings = os.path.join(self.dir_buildings, str((self.ind_val.iloc[idx, 0]))) + \".png\"\n",
        "        image_buildings = np.asarray(io.imread(img_name_buildings))   \n",
        "        \n",
        "        #Load Tx (transmitter):\n",
        "        self.dir_Tx = self.dir_dataset+ \"Tx/\" \n",
        "        img_name_Tx = os.path.join(self.dir_Tx, str((self.ind_val.iloc[idx, 0]))) + \".png\"\n",
        "        image_Tx = np.asarray(io.imread(img_name_Tx))\n",
        "\n",
        "        #Load Rx (reciever): (not used in our training)\n",
        "        self.dir_Rx = self.dir_dataset+ \"Rx/\" \n",
        "        img_name_Rx = os.path.join(self.dir_Rx, str((self.ind_val.iloc[idx, 0]))) + \".png\"\n",
        "        image_Rx = np.asarray(io.imread(img_name_Rx))\n",
        "\n",
        "        #Load Power:\n",
        "        self.dir_power = self.dir_dataset+ \"pmap/\" \n",
        "        img_name_power = os.path.join(self.dir_power, str(self.ind_val.iloc[idx, 0])) + \".png\"\n",
        "        image_power = np.asarray(io.imread(img_name_power))        \n",
        "\n",
        "        inputs=np.stack([image_buildings, image_Tx], axis=2)\n",
        "\n",
        "        if self.transform:\n",
        "            inputs = self.transform(inputs).type(torch.float32)\n",
        "            power = self.transform(image_power).type(torch.float32)\n",
        "\n",
        "        return [inputs , power]"
      ]
    },
    {
      "cell_type": "code",
      "execution_count": null,
      "metadata": {
        "id": "F5XeOLKswmzj"
      },
      "outputs": [],
      "source": [
        "csv_path = \"/content/drive/MyDrive/PMNet/dataset/dataset_train.csv\"\n",
        "dir_dataset = \"/content/drive/MyDrive/PMNet/USC/\"\n",
        "\n",
        "train_data = PMnet_usc(csv_path, dir_dataset)\n",
        "train_loader = DataLoader(train_data, batch_size=4, shuffle=True, num_workers=4)"
      ]
    },
    {
      "cell_type": "code",
      "source": [
        "# print(train_data[1])\n",
        "\n",
        "# for sample, label in train_loader:\n",
        "#   print(label)\n",
        "#   break"
      ],
      "metadata": {
        "id": "jAKFvjCgK7kH"
      },
      "execution_count": null,
      "outputs": []
    },
    {
      "cell_type": "code",
      "execution_count": null,
      "metadata": {
        "id": "oyN9n541GCYG"
      },
      "outputs": [],
      "source": [
        "# Conv, Batchnorm, Relu layers, basic building block.\n",
        "class _ConvBnReLU(nn.Sequential):\n",
        "\n",
        "    BATCH_NORM = _BATCH_NORM\n",
        "\n",
        "    def __init__(\n",
        "        self, in_ch, out_ch, kernel_size, stride, padding, dilation, relu=True\n",
        "    ):\n",
        "        super(_ConvBnReLU, self).__init__()\n",
        "        self.add_module(\n",
        "            \"conv\",\n",
        "            nn.Conv2d(\n",
        "                in_ch, out_ch, kernel_size, stride, padding, dilation, bias=False\n",
        "            ),\n",
        "        )\n",
        "        self.add_module(\"bn\", _BATCH_NORM(out_ch, eps=1e-5, momentum=1 - 0.999))\n",
        "\n",
        "        if relu:\n",
        "            self.add_module(\"relu\", nn.ReLU())\n",
        "\n",
        "# Bottleneck layer cinstructed from ConvBnRelu layer block, buiding block for Res layers\n",
        "class _Bottleneck(nn.Module):\n",
        "\n",
        "    def __init__(self, in_ch, out_ch, stride, dilation, downsample):\n",
        "        super(_Bottleneck, self).__init__()\n",
        "        mid_ch = out_ch // _BOTTLENECK_EXPANSION\n",
        "        self.reduce = _ConvBnReLU(in_ch, mid_ch, 1, stride, 0, 1, True)\n",
        "        self.conv3x3 = _ConvBnReLU(mid_ch, mid_ch, 3, 1, dilation, dilation, True)\n",
        "        self.increase = _ConvBnReLU(mid_ch, out_ch, 1, 1, 0, 1, False)\n",
        "        self.shortcut = (\n",
        "            _ConvBnReLU(in_ch, out_ch, 1, stride, 0, 1, False)\n",
        "            if downsample\n",
        "            else nn.Identity()\n",
        "        )\n",
        "\n",
        "    def forward(self, x):\n",
        "        h = self.reduce(x)\n",
        "        h = self.conv3x3(h)\n",
        "        h = self.increase(h)\n",
        "        h += self.shortcut(x)\n",
        "        return F.relu(h)\n",
        "\n",
        "# Res Layer used to costruct the encoder\n",
        "class _ResLayer(nn.Sequential):\n",
        "\n",
        "    def __init__(self, n_layers, in_ch, out_ch, stride, dilation, multi_grids=None):\n",
        "        super(_ResLayer, self).__init__()\n",
        "\n",
        "        if multi_grids is None:\n",
        "            multi_grids = [1 for _ in range(n_layers)]\n",
        "        else:\n",
        "            assert n_layers == len(multi_grids)\n",
        "\n",
        "        # Downsampling is only in the first block\n",
        "        for i in range(n_layers):\n",
        "            self.add_module(\n",
        "                \"block{}\".format(i + 1),\n",
        "                _Bottleneck(\n",
        "                    in_ch=(in_ch if i == 0 else out_ch),\n",
        "                    out_ch=out_ch,\n",
        "                    stride=(stride if i == 0 else 1),\n",
        "                    dilation=dilation * multi_grids[i],\n",
        "                    downsample=(True if i == 0 else False),\n",
        "                ),\n",
        "            )\n",
        "\n",
        "# Stem layer is the initial interfacing layer\n",
        "class _Stem(nn.Sequential):\n",
        "    \"\"\"\n",
        "    The 1st conv layer.\n",
        "    Note that the max pooling is different from both MSRA and FAIR ResNet.\n",
        "    \"\"\"\n",
        "\n",
        "    def __init__(self, out_ch, in_ch = 2):\n",
        "        super(_Stem, self).__init__()\n",
        "        self.add_module(\"conv1\", _ConvBnReLU(in_ch, out_ch, 7, 2, 3, 1))\n",
        "        self.add_module(\"pool\", nn.MaxPool2d(in_ch, 2, 1, ceil_mode=True))\n",
        "\n",
        "\n",
        "\n",
        "class _ImagePool(nn.Module):\n",
        "    def __init__(self, in_ch, out_ch):\n",
        "        super().__init__()\n",
        "        self.pool = nn.AdaptiveAvgPool2d(1)\n",
        "        self.conv = _ConvBnReLU(in_ch, out_ch, 1, 1, 0, 1)\n",
        "\n",
        "    def forward(self, x):\n",
        "        _, _, H, W = x.shape\n",
        "        h = self.pool(x)\n",
        "        h = self.conv(h)\n",
        "        h = F.interpolate(h, size=(H, W), mode=\"bilinear\", align_corners=False)\n",
        "        return h\n",
        "\n",
        "\n",
        "# Atrous spatial pyramid pooling\n",
        "class _ASPP(nn.Module):\n",
        "\n",
        "    def __init__(self, in_ch, out_ch, rates):\n",
        "        super(_ASPP, self).__init__()\n",
        "        self.stages = nn.Module()\n",
        "        self.stages.add_module(\"c0\", _ConvBnReLU(in_ch, out_ch, 1, 1, 0, 1))\n",
        "        for i, rate in enumerate(rates):\n",
        "            self.stages.add_module(\n",
        "                \"c{}\".format(i + 1),\n",
        "                _ConvBnReLU(in_ch, out_ch, 3, 1, padding=rate, dilation=rate),\n",
        "            )\n",
        "        self.stages.add_module(\"imagepool\", _ImagePool(in_ch, out_ch))\n",
        "\n",
        "    def forward(self, x):\n",
        "        return torch.cat([stage(x) for stage in self.stages.children()], dim=1)\n",
        "\n",
        "\n",
        "\n",
        "# Decoder layer constricted using these 2 blocks\n",
        "def ConRu(in_channels, out_channels, kernel, padding):\n",
        "    return nn.Sequential(\n",
        "        nn.Conv2d(in_channels, out_channels, kernel, padding=padding),\n",
        "        nn.ReLU(inplace=True)\n",
        "    )\n",
        "\n",
        "def ConRuT(in_channels, out_channels, kernel, padding):\n",
        "    return nn.Sequential(\n",
        "        nn.ConvTranspose2d(in_channels, out_channels, kernel, stride=2, padding=padding),\n",
        "        nn.ReLU(inplace=True)\n",
        "    )\n",
        "\n",
        "\n",
        "\n",
        "class PMNet(nn.Module):\n",
        "\n",
        "    def __init__(self, n_blocks, atrous_rates, multi_grids, output_stride):\n",
        "        super(PMNet, self).__init__()\n",
        "\n",
        "        if output_stride == 8:\n",
        "            s = [1, 2, 1, 1]\n",
        "            d = [1, 1, 2, 4]\n",
        "        elif output_stride == 16:\n",
        "            s = [1, 2, 2, 1]\n",
        "            d = [1, 1, 1, 2]\n",
        "\n",
        "        # Encoder\n",
        "        ch = [64 * 2 ** p for p in range(6)]\n",
        "        self.layer1 = _Stem(ch[0])\n",
        "        self.layer2 = _ResLayer(n_blocks[0], ch[0], ch[2], s[0], d[0])\n",
        "        self.layer3 = _ResLayer(n_blocks[1], ch[2], ch[3], s[1], d[1])\n",
        "        self.layer4 = _ResLayer(n_blocks[2], ch[3], ch[3], s[2], d[2])\n",
        "        self.layer5 = _ResLayer(n_blocks[3], ch[3], ch[4], s[3], d[3], multi_grids)\n",
        "        self.aspp = _ASPP(ch[4], 256, atrous_rates)\n",
        "        concat_ch = 256 * (len(atrous_rates) + 2)\n",
        "        self.add_module(\"fc1\", _ConvBnReLU(concat_ch, 512, 1, 1, 0, 1))\n",
        "        self.reduce = _ConvBnReLU(256, 256, 1, 1, 0, 1)\n",
        "\n",
        "        # Decoder\n",
        "        self.conv_up5 = ConRu(512, 512, 3, 1)\n",
        "        self.conv_up4 = ConRuT(512+512, 512, 3, 1)\n",
        "        self.conv_up3 = ConRuT(512+512, 256, 3, 1)\n",
        "        self.conv_up2 = ConRu(256+256, 256, 3, 1)\n",
        "        self.conv_up1 = ConRu(256+256, 256, 3, 1)\n",
        "\n",
        "        self.conv_up0 = ConRu(256+64, 128, 3, 1)\n",
        "        self.conv_up00 = nn.Sequential(\n",
        "                         nn.Conv2d(128+2, 64, kernel_size=3, padding=1),\n",
        "                         nn.BatchNorm2d(64),\n",
        "                         nn.ReLU(),\n",
        "                         nn.Conv2d(64, 64, kernel_size=3, padding=1),\n",
        "                         nn.BatchNorm2d(64),\n",
        "                         nn.ReLU(),\n",
        "                         nn.Conv2d(64, 1, kernel_size=3, padding=1))\n",
        "\n",
        "    def forward(self, x):\n",
        "        # Encoder\n",
        "        x1 = self.layer1(x)\n",
        "        x2 = self.layer2(x1)\n",
        "        x3 = self.reduce(x2)\n",
        "        x4 = self.layer3(x3)\n",
        "        x5 = self.layer4(x4)\n",
        "        x6 = self.layer5(x5)\n",
        "        x7 = self.aspp(x6)\n",
        "        x8 = self.fc1(x7)\n",
        "\n",
        "        # Decoder\n",
        "        xup5 = self.conv_up5(x8)\n",
        "        xup5 = torch.cat([xup5, x5], dim=1)\n",
        "        xup4 = self.conv_up4(xup5)\n",
        "        xup4 = torch.cat([xup4, x4], dim=1)\n",
        "        xup3 = self.conv_up3(xup4)\n",
        "        xup3 = torch.cat([xup3, x3], dim=1)\n",
        "        xup2 = self.conv_up2(xup3)\n",
        "        xup2 = torch.cat([xup2, x2], dim=1)\n",
        "        xup1 = self.conv_up1(xup2)\n",
        "        xup1 = torch.cat([xup1, x1], dim=1)\n",
        "        xup0 = self.conv_up0(xup1)\n",
        "\n",
        "        xup0 = F.interpolate(xup0, size=x.shape[2:], mode=\"bilinear\", align_corners=False)\n",
        "        xup0 = torch.cat([xup0, x], dim=1)\n",
        "        xup00 = self.conv_up00(xup0)\n",
        "        \n",
        "        return xup00\n",
        "\n"
      ]
    },
    {
      "cell_type": "code",
      "source": [
        "# m = PMNet(n_blocks=[3, 3, 27, 3],\n",
        "# atrous_rates=[6, 12, 18],\n",
        "# multi_grids=[1, 2, 4],\n",
        "# output_stride=16)\n",
        "\n",
        "# B = 4\n",
        "# H = 256\n",
        "\n",
        "# # input = torch.randn(B, 2, H, H)\n",
        "# output = m(input)\n",
        "# print(output.shape)"
      ],
      "metadata": {
        "id": "wnJ33koAj3YB"
      },
      "execution_count": null,
      "outputs": []
    },
    {
      "cell_type": "code",
      "execution_count": null,
      "metadata": {
        "id": "c6L6PCwik8Nx"
      },
      "outputs": [],
      "source": [
        "# loss_fn = torch.nn.CrossEntropyLoss()"
      ]
    },
    {
      "cell_type": "code",
      "execution_count": null,
      "metadata": {
        "colab": {
          "base_uri": "https://localhost:8080/",
          "height": 883,
          "referenced_widgets": [
            "51096117195b42b4b6b6cdbef449a9e8",
            "fd1b9e69746d48419e4d9b2df8f326e3",
            "c863d20a24894780a6d718d53d5e0207",
            "b9479a8c4b6c49658a29b73c4c320dc2",
            "ef41b1bc8a99440dbf3c70623592de56",
            "aee70b23c2624057978a9a5afdf9310f",
            "ccf50415ddaa40a8b70709ced021ef55",
            "6ae6cc468a1b4ce49285bcb8ffdc5944",
            "4fff2b82ce9c4c28885561ee2ceb56e0",
            "4bae3e33c009487f88941c7d1bfe35d0",
            "ac2764934e534969a2853ccaf0fb9ab0"
          ]
        },
        "id": "QZXABLdnLUAs",
        "outputId": "fa0a3d2e-ce4e-4e73-c467-0f969856e00a"
      },
      "outputs": [
        {
          "output_type": "display_data",
          "data": {
            "text/plain": [
              "  0%|          | 0/806 [00:00<?, ?it/s]"
            ],
            "application/vnd.jupyter.widget-view+json": {
              "version_major": 2,
              "version_minor": 0,
              "model_id": "51096117195b42b4b6b6cdbef449a9e8"
            }
          },
          "metadata": {}
        },
        {
          "output_type": "stream",
          "name": "stdout",
          "text": [
            "tensor(1.8777, device='cuda:0', grad_fn=<DivBackward0>)\n",
            "tensor(11.7470, device='cuda:0', grad_fn=<DivBackward0>)\n",
            "tensor(15.5901, device='cuda:0', grad_fn=<DivBackward0>)\n",
            "tensor(5.8167, device='cuda:0', grad_fn=<DivBackward0>)\n",
            "tensor(14.0851, device='cuda:0', grad_fn=<DivBackward0>)\n",
            "tensor(19.5738, device='cuda:0', grad_fn=<DivBackward0>)\n",
            "tensor(22.5932, device='cuda:0', grad_fn=<DivBackward0>)\n",
            "tensor(23.8888, device='cuda:0', grad_fn=<DivBackward0>)\n",
            "tensor(19.4909, device='cuda:0', grad_fn=<DivBackward0>)\n",
            "tensor(19.1503, device='cuda:0', grad_fn=<DivBackward0>)\n",
            "tensor(28.2580, device='cuda:0', grad_fn=<DivBackward0>)\n",
            "tensor(43.5400, device='cuda:0', grad_fn=<DivBackward0>)\n",
            "tensor(48.7462, device='cuda:0', grad_fn=<DivBackward0>)\n",
            "tensor(29.1819, device='cuda:0', grad_fn=<DivBackward0>)\n",
            "tensor(12.7422, device='cuda:0', grad_fn=<DivBackward0>)\n",
            "tensor(3.8130, device='cuda:0', grad_fn=<DivBackward0>)\n",
            "tensor(2.3041, device='cuda:0', grad_fn=<DivBackward0>)\n",
            "tensor(15.0888, device='cuda:0', grad_fn=<DivBackward0>)\n",
            "tensor(37.9934, device='cuda:0', grad_fn=<DivBackward0>)\n",
            "tensor(89.1725, device='cuda:0', grad_fn=<DivBackward0>)\n",
            "tensor(129.5829, device='cuda:0', grad_fn=<DivBackward0>)\n",
            "tensor(147.1709, device='cuda:0', grad_fn=<DivBackward0>)\n",
            "tensor(194.2336, device='cuda:0', grad_fn=<DivBackward0>)\n",
            "tensor(182.9952, device='cuda:0', grad_fn=<DivBackward0>)\n",
            "tensor(164.0654, device='cuda:0', grad_fn=<DivBackward0>)\n",
            "tensor(118.0521, device='cuda:0', grad_fn=<DivBackward0>)\n",
            "tensor(70.6455, device='cuda:0', grad_fn=<DivBackward0>)\n"
          ]
        },
        {
          "output_type": "error",
          "ename": "KeyboardInterrupt",
          "evalue": "ignored",
          "traceback": [
            "\u001b[0;31m---------------------------------------------------------------------------\u001b[0m",
            "\u001b[0;31mKeyboardInterrupt\u001b[0m                         Traceback (most recent call last)",
            "\u001b[0;32m<ipython-input-19-00a2ba8c226a>\u001b[0m in \u001b[0;36m<module>\u001b[0;34m\u001b[0m\n\u001b[1;32m     17\u001b[0m         \u001b[0moutput\u001b[0m \u001b[0;34m=\u001b[0m \u001b[0mpmNET\u001b[0m\u001b[0;34m(\u001b[0m\u001b[0mimage\u001b[0m\u001b[0;34m)\u001b[0m\u001b[0;34m\u001b[0m\u001b[0;34m\u001b[0m\u001b[0m\n\u001b[1;32m     18\u001b[0m         \u001b[0mloss\u001b[0m \u001b[0;34m=\u001b[0m \u001b[0mloss_fn\u001b[0m\u001b[0;34m(\u001b[0m\u001b[0mpower\u001b[0m\u001b[0;34m,\u001b[0m \u001b[0moutput\u001b[0m\u001b[0;34m)\u001b[0m\u001b[0;34m/\u001b[0m\u001b[0mloss_fn\u001b[0m\u001b[0;34m(\u001b[0m\u001b[0mpower\u001b[0m\u001b[0;34m,\u001b[0m \u001b[0mtorch\u001b[0m\u001b[0;34m.\u001b[0m\u001b[0mzeros_like\u001b[0m\u001b[0;34m(\u001b[0m\u001b[0mpower\u001b[0m\u001b[0;34m)\u001b[0m\u001b[0;34m)\u001b[0m\u001b[0;34m\u001b[0m\u001b[0;34m\u001b[0m\u001b[0m\n\u001b[0;32m---> 19\u001b[0;31m         \u001b[0mloss\u001b[0m\u001b[0;34m.\u001b[0m\u001b[0mbackward\u001b[0m\u001b[0;34m(\u001b[0m\u001b[0;34m)\u001b[0m\u001b[0;34m\u001b[0m\u001b[0;34m\u001b[0m\u001b[0m\n\u001b[0m\u001b[1;32m     20\u001b[0m         \u001b[0moptimizer\u001b[0m\u001b[0;34m.\u001b[0m\u001b[0mstep\u001b[0m\u001b[0;34m(\u001b[0m\u001b[0;34m)\u001b[0m\u001b[0;34m\u001b[0m\u001b[0;34m\u001b[0m\u001b[0m\n\u001b[1;32m     21\u001b[0m         \u001b[0mprint\u001b[0m\u001b[0;34m(\u001b[0m\u001b[0mloss\u001b[0m\u001b[0;34m)\u001b[0m\u001b[0;34m\u001b[0m\u001b[0;34m\u001b[0m\u001b[0m\n",
            "\u001b[0;32m/usr/local/lib/python3.8/dist-packages/torch/_tensor.py\u001b[0m in \u001b[0;36mbackward\u001b[0;34m(self, gradient, retain_graph, create_graph, inputs)\u001b[0m\n\u001b[1;32m    361\u001b[0m                 \u001b[0mcreate_graph\u001b[0m\u001b[0;34m=\u001b[0m\u001b[0mcreate_graph\u001b[0m\u001b[0;34m,\u001b[0m\u001b[0;34m\u001b[0m\u001b[0;34m\u001b[0m\u001b[0m\n\u001b[1;32m    362\u001b[0m                 inputs=inputs)\n\u001b[0;32m--> 363\u001b[0;31m         \u001b[0mtorch\u001b[0m\u001b[0;34m.\u001b[0m\u001b[0mautograd\u001b[0m\u001b[0;34m.\u001b[0m\u001b[0mbackward\u001b[0m\u001b[0;34m(\u001b[0m\u001b[0mself\u001b[0m\u001b[0;34m,\u001b[0m \u001b[0mgradient\u001b[0m\u001b[0;34m,\u001b[0m \u001b[0mretain_graph\u001b[0m\u001b[0;34m,\u001b[0m \u001b[0mcreate_graph\u001b[0m\u001b[0;34m,\u001b[0m \u001b[0minputs\u001b[0m\u001b[0;34m=\u001b[0m\u001b[0minputs\u001b[0m\u001b[0;34m)\u001b[0m\u001b[0;34m\u001b[0m\u001b[0;34m\u001b[0m\u001b[0m\n\u001b[0m\u001b[1;32m    364\u001b[0m \u001b[0;34m\u001b[0m\u001b[0m\n\u001b[1;32m    365\u001b[0m     \u001b[0;32mdef\u001b[0m \u001b[0mregister_hook\u001b[0m\u001b[0;34m(\u001b[0m\u001b[0mself\u001b[0m\u001b[0;34m,\u001b[0m \u001b[0mhook\u001b[0m\u001b[0;34m)\u001b[0m\u001b[0;34m:\u001b[0m\u001b[0;34m\u001b[0m\u001b[0;34m\u001b[0m\u001b[0m\n",
            "\u001b[0;32m/usr/local/lib/python3.8/dist-packages/torch/autograd/__init__.py\u001b[0m in \u001b[0;36mbackward\u001b[0;34m(tensors, grad_tensors, retain_graph, create_graph, grad_variables, inputs)\u001b[0m\n\u001b[1;32m    171\u001b[0m     \u001b[0;31m# some Python versions print out the first line of a multi-line function\u001b[0m\u001b[0;34m\u001b[0m\u001b[0;34m\u001b[0m\u001b[0;34m\u001b[0m\u001b[0m\n\u001b[1;32m    172\u001b[0m     \u001b[0;31m# calls in the traceback and some print out the last line\u001b[0m\u001b[0;34m\u001b[0m\u001b[0;34m\u001b[0m\u001b[0;34m\u001b[0m\u001b[0m\n\u001b[0;32m--> 173\u001b[0;31m     Variable._execution_engine.run_backward(  # Calls into the C++ engine to run the backward pass\n\u001b[0m\u001b[1;32m    174\u001b[0m         \u001b[0mtensors\u001b[0m\u001b[0;34m,\u001b[0m \u001b[0mgrad_tensors_\u001b[0m\u001b[0;34m,\u001b[0m \u001b[0mretain_graph\u001b[0m\u001b[0;34m,\u001b[0m \u001b[0mcreate_graph\u001b[0m\u001b[0;34m,\u001b[0m \u001b[0minputs\u001b[0m\u001b[0;34m,\u001b[0m\u001b[0;34m\u001b[0m\u001b[0;34m\u001b[0m\u001b[0m\n\u001b[1;32m    175\u001b[0m         allow_unreachable=True, accumulate_grad=True)  # Calls into the C++ engine to run the backward pass\n",
            "\u001b[0;31mKeyboardInterrupt\u001b[0m: "
          ]
        }
      ],
      "source": [
        "num_epochs = 5\n",
        "lr = 0.01\n",
        "weight_decay = 0.0\n",
        "\n",
        "pmNET = PMNet(n_blocks=[3, 3, 27, 3], atrous_rates=[6, 12, 18], multi_grids=[1, 2, 4], output_stride=16)\n",
        "pmNET = pmNET.to(device)\n",
        "loss_fn = nn.MSELoss()\n",
        "optimizer = torch.optim.Adam(pmNET.parameters(),lr=0.01, weight_decay=0.0)\n",
        "\n",
        "for epoch in range(num_epochs):\n",
        "      pbar = tqdm(train_loader)\n",
        "      pbar.set_description(f\"Epoch {epoch + 1}\")\n",
        "      loss_epoch = 0\n",
        "      for i, (image, power) in enumerate(pbar):\n",
        "        image = image.to(device)\n",
        "        power = power.to(device)\n",
        "        output = pmNET(image)\n",
        "        loss = loss_fn(power, output)/loss_fn(power, torch.zeros_like(power))\n",
        "        loss.backward()\n",
        "        optimizer.step()\n",
        "        "
      ]
    }
  ],
  "metadata": {
    "colab": {
      "provenance": [],
      "mount_file_id": "1t22Nw8HpYI04gApEuLy512auS-KlU4nt",
      "authorship_tag": "ABX9TyOa5NoNTdokiWTaQ9z6Ymf/",
      "include_colab_link": true
    },
    "kernelspec": {
      "display_name": "Python 3",
      "name": "python3"
    },
    "language_info": {
      "name": "python"
    },
    "widgets": {
      "application/vnd.jupyter.widget-state+json": {
        "51096117195b42b4b6b6cdbef449a9e8": {
          "model_module": "@jupyter-widgets/controls",
          "model_name": "HBoxModel",
          "model_module_version": "1.5.0",
          "state": {
            "_dom_classes": [],
            "_model_module": "@jupyter-widgets/controls",
            "_model_module_version": "1.5.0",
            "_model_name": "HBoxModel",
            "_view_count": null,
            "_view_module": "@jupyter-widgets/controls",
            "_view_module_version": "1.5.0",
            "_view_name": "HBoxView",
            "box_style": "",
            "children": [
              "IPY_MODEL_fd1b9e69746d48419e4d9b2df8f326e3",
              "IPY_MODEL_c863d20a24894780a6d718d53d5e0207",
              "IPY_MODEL_b9479a8c4b6c49658a29b73c4c320dc2"
            ],
            "layout": "IPY_MODEL_ef41b1bc8a99440dbf3c70623592de56"
          }
        },
        "fd1b9e69746d48419e4d9b2df8f326e3": {
          "model_module": "@jupyter-widgets/controls",
          "model_name": "HTMLModel",
          "model_module_version": "1.5.0",
          "state": {
            "_dom_classes": [],
            "_model_module": "@jupyter-widgets/controls",
            "_model_module_version": "1.5.0",
            "_model_name": "HTMLModel",
            "_view_count": null,
            "_view_module": "@jupyter-widgets/controls",
            "_view_module_version": "1.5.0",
            "_view_name": "HTMLView",
            "description": "",
            "description_tooltip": null,
            "layout": "IPY_MODEL_aee70b23c2624057978a9a5afdf9310f",
            "placeholder": "​",
            "style": "IPY_MODEL_ccf50415ddaa40a8b70709ced021ef55",
            "value": "Epoch 1:   3%"
          }
        },
        "c863d20a24894780a6d718d53d5e0207": {
          "model_module": "@jupyter-widgets/controls",
          "model_name": "FloatProgressModel",
          "model_module_version": "1.5.0",
          "state": {
            "_dom_classes": [],
            "_model_module": "@jupyter-widgets/controls",
            "_model_module_version": "1.5.0",
            "_model_name": "FloatProgressModel",
            "_view_count": null,
            "_view_module": "@jupyter-widgets/controls",
            "_view_module_version": "1.5.0",
            "_view_name": "ProgressView",
            "bar_style": "danger",
            "description": "",
            "description_tooltip": null,
            "layout": "IPY_MODEL_6ae6cc468a1b4ce49285bcb8ffdc5944",
            "max": 806,
            "min": 0,
            "orientation": "horizontal",
            "style": "IPY_MODEL_4fff2b82ce9c4c28885561ee2ceb56e0",
            "value": 27
          }
        },
        "b9479a8c4b6c49658a29b73c4c320dc2": {
          "model_module": "@jupyter-widgets/controls",
          "model_name": "HTMLModel",
          "model_module_version": "1.5.0",
          "state": {
            "_dom_classes": [],
            "_model_module": "@jupyter-widgets/controls",
            "_model_module_version": "1.5.0",
            "_model_name": "HTMLModel",
            "_view_count": null,
            "_view_module": "@jupyter-widgets/controls",
            "_view_module_version": "1.5.0",
            "_view_name": "HTMLView",
            "description": "",
            "description_tooltip": null,
            "layout": "IPY_MODEL_4bae3e33c009487f88941c7d1bfe35d0",
            "placeholder": "​",
            "style": "IPY_MODEL_ac2764934e534969a2853ccaf0fb9ab0",
            "value": " 27/806 [00:08&lt;03:39,  3.55it/s]"
          }
        },
        "ef41b1bc8a99440dbf3c70623592de56": {
          "model_module": "@jupyter-widgets/base",
          "model_name": "LayoutModel",
          "model_module_version": "1.2.0",
          "state": {
            "_model_module": "@jupyter-widgets/base",
            "_model_module_version": "1.2.0",
            "_model_name": "LayoutModel",
            "_view_count": null,
            "_view_module": "@jupyter-widgets/base",
            "_view_module_version": "1.2.0",
            "_view_name": "LayoutView",
            "align_content": null,
            "align_items": null,
            "align_self": null,
            "border": null,
            "bottom": null,
            "display": null,
            "flex": null,
            "flex_flow": null,
            "grid_area": null,
            "grid_auto_columns": null,
            "grid_auto_flow": null,
            "grid_auto_rows": null,
            "grid_column": null,
            "grid_gap": null,
            "grid_row": null,
            "grid_template_areas": null,
            "grid_template_columns": null,
            "grid_template_rows": null,
            "height": null,
            "justify_content": null,
            "justify_items": null,
            "left": null,
            "margin": null,
            "max_height": null,
            "max_width": null,
            "min_height": null,
            "min_width": null,
            "object_fit": null,
            "object_position": null,
            "order": null,
            "overflow": null,
            "overflow_x": null,
            "overflow_y": null,
            "padding": null,
            "right": null,
            "top": null,
            "visibility": null,
            "width": null
          }
        },
        "aee70b23c2624057978a9a5afdf9310f": {
          "model_module": "@jupyter-widgets/base",
          "model_name": "LayoutModel",
          "model_module_version": "1.2.0",
          "state": {
            "_model_module": "@jupyter-widgets/base",
            "_model_module_version": "1.2.0",
            "_model_name": "LayoutModel",
            "_view_count": null,
            "_view_module": "@jupyter-widgets/base",
            "_view_module_version": "1.2.0",
            "_view_name": "LayoutView",
            "align_content": null,
            "align_items": null,
            "align_self": null,
            "border": null,
            "bottom": null,
            "display": null,
            "flex": null,
            "flex_flow": null,
            "grid_area": null,
            "grid_auto_columns": null,
            "grid_auto_flow": null,
            "grid_auto_rows": null,
            "grid_column": null,
            "grid_gap": null,
            "grid_row": null,
            "grid_template_areas": null,
            "grid_template_columns": null,
            "grid_template_rows": null,
            "height": null,
            "justify_content": null,
            "justify_items": null,
            "left": null,
            "margin": null,
            "max_height": null,
            "max_width": null,
            "min_height": null,
            "min_width": null,
            "object_fit": null,
            "object_position": null,
            "order": null,
            "overflow": null,
            "overflow_x": null,
            "overflow_y": null,
            "padding": null,
            "right": null,
            "top": null,
            "visibility": null,
            "width": null
          }
        },
        "ccf50415ddaa40a8b70709ced021ef55": {
          "model_module": "@jupyter-widgets/controls",
          "model_name": "DescriptionStyleModel",
          "model_module_version": "1.5.0",
          "state": {
            "_model_module": "@jupyter-widgets/controls",
            "_model_module_version": "1.5.0",
            "_model_name": "DescriptionStyleModel",
            "_view_count": null,
            "_view_module": "@jupyter-widgets/base",
            "_view_module_version": "1.2.0",
            "_view_name": "StyleView",
            "description_width": ""
          }
        },
        "6ae6cc468a1b4ce49285bcb8ffdc5944": {
          "model_module": "@jupyter-widgets/base",
          "model_name": "LayoutModel",
          "model_module_version": "1.2.0",
          "state": {
            "_model_module": "@jupyter-widgets/base",
            "_model_module_version": "1.2.0",
            "_model_name": "LayoutModel",
            "_view_count": null,
            "_view_module": "@jupyter-widgets/base",
            "_view_module_version": "1.2.0",
            "_view_name": "LayoutView",
            "align_content": null,
            "align_items": null,
            "align_self": null,
            "border": null,
            "bottom": null,
            "display": null,
            "flex": null,
            "flex_flow": null,
            "grid_area": null,
            "grid_auto_columns": null,
            "grid_auto_flow": null,
            "grid_auto_rows": null,
            "grid_column": null,
            "grid_gap": null,
            "grid_row": null,
            "grid_template_areas": null,
            "grid_template_columns": null,
            "grid_template_rows": null,
            "height": null,
            "justify_content": null,
            "justify_items": null,
            "left": null,
            "margin": null,
            "max_height": null,
            "max_width": null,
            "min_height": null,
            "min_width": null,
            "object_fit": null,
            "object_position": null,
            "order": null,
            "overflow": null,
            "overflow_x": null,
            "overflow_y": null,
            "padding": null,
            "right": null,
            "top": null,
            "visibility": null,
            "width": null
          }
        },
        "4fff2b82ce9c4c28885561ee2ceb56e0": {
          "model_module": "@jupyter-widgets/controls",
          "model_name": "ProgressStyleModel",
          "model_module_version": "1.5.0",
          "state": {
            "_model_module": "@jupyter-widgets/controls",
            "_model_module_version": "1.5.0",
            "_model_name": "ProgressStyleModel",
            "_view_count": null,
            "_view_module": "@jupyter-widgets/base",
            "_view_module_version": "1.2.0",
            "_view_name": "StyleView",
            "bar_color": null,
            "description_width": ""
          }
        },
        "4bae3e33c009487f88941c7d1bfe35d0": {
          "model_module": "@jupyter-widgets/base",
          "model_name": "LayoutModel",
          "model_module_version": "1.2.0",
          "state": {
            "_model_module": "@jupyter-widgets/base",
            "_model_module_version": "1.2.0",
            "_model_name": "LayoutModel",
            "_view_count": null,
            "_view_module": "@jupyter-widgets/base",
            "_view_module_version": "1.2.0",
            "_view_name": "LayoutView",
            "align_content": null,
            "align_items": null,
            "align_self": null,
            "border": null,
            "bottom": null,
            "display": null,
            "flex": null,
            "flex_flow": null,
            "grid_area": null,
            "grid_auto_columns": null,
            "grid_auto_flow": null,
            "grid_auto_rows": null,
            "grid_column": null,
            "grid_gap": null,
            "grid_row": null,
            "grid_template_areas": null,
            "grid_template_columns": null,
            "grid_template_rows": null,
            "height": null,
            "justify_content": null,
            "justify_items": null,
            "left": null,
            "margin": null,
            "max_height": null,
            "max_width": null,
            "min_height": null,
            "min_width": null,
            "object_fit": null,
            "object_position": null,
            "order": null,
            "overflow": null,
            "overflow_x": null,
            "overflow_y": null,
            "padding": null,
            "right": null,
            "top": null,
            "visibility": null,
            "width": null
          }
        },
        "ac2764934e534969a2853ccaf0fb9ab0": {
          "model_module": "@jupyter-widgets/controls",
          "model_name": "DescriptionStyleModel",
          "model_module_version": "1.5.0",
          "state": {
            "_model_module": "@jupyter-widgets/controls",
            "_model_module_version": "1.5.0",
            "_model_name": "DescriptionStyleModel",
            "_view_count": null,
            "_view_module": "@jupyter-widgets/base",
            "_view_module_version": "1.2.0",
            "_view_name": "StyleView",
            "description_width": ""
          }
        }
      }
    },
    "accelerator": "GPU",
    "gpuClass": "standard"
  },
  "nbformat": 4,
  "nbformat_minor": 0
}